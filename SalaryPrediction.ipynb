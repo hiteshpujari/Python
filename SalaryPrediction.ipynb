{
  "nbformat": 4,
  "nbformat_minor": 0,
  "metadata": {
    "colab": {
      "name": "SalaryPrediction.ipynb",
      "provenance": [],
      "collapsed_sections": [],
      "authorship_tag": "ABX9TyP2gqdlVJkkmVF55eudCgrG",
      "include_colab_link": true
    },
    "kernelspec": {
      "name": "python3",
      "display_name": "Python 3"
    },
    "language_info": {
      "name": "python"
    }
  },
  "cells": [
    {
      "cell_type": "markdown",
      "metadata": {
        "id": "view-in-github",
        "colab_type": "text"
      },
      "source": [
        "<a href=\"https://colab.research.google.com/github/hiteshpujari/Python/blob/master/SalaryPrediction.ipynb\" target=\"_parent\"><img src=\"https://colab.research.google.com/assets/colab-badge.svg\" alt=\"Open In Colab\"/></a>"
      ]
    },
    {
      "cell_type": "code",
      "metadata": {
        "id": "EmHaDu47NNYk"
      },
      "source": [
        "# Import Libraries \n",
        "import numpy as np # imports a fast numerical programming library\n",
        "import pandas as pd #lets us handle data as dataframes\n",
        "from sklearn import linear_model"
      ],
      "execution_count": 19,
      "outputs": []
    },
    {
      "cell_type": "code",
      "metadata": {
        "id": "w4wej7Y0NkZH"
      },
      "source": [
        "Yearofexp = [1.1,1.3,1.5,2.0,2.2,2.9,3.0]\n",
        "Salary = [39343.0, 46205.0, 37731.0, 43525.0, 39891.0, 56642.0, 60150.0]"
      ],
      "execution_count": 3,
      "outputs": []
    },
    {
      "cell_type": "code",
      "metadata": {
        "id": "YAHsu_RENrXG"
      },
      "source": [
        "hitesh_df['Salary'] = hitesh_df.index"
      ],
      "execution_count": 9,
      "outputs": []
    },
    {
      "cell_type": "code",
      "metadata": {
        "id": "hwTBv-FcOZKp"
      },
      "source": [
        "hitesh_df['Exp.'] = hitesh_df[0]"
      ],
      "execution_count": 10,
      "outputs": []
    },
    {
      "cell_type": "code",
      "metadata": {
        "id": "O2cSheuqvXEv",
        "colab": {
          "base_uri": "https://localhost:8080/",
          "height": 266
        },
        "outputId": "99d8527f-6ebd-408e-cb30-43e643074d7b"
      },
      "source": [
        "hitesh_df.reset_index()"
      ],
      "execution_count": 11,
      "outputs": [
        {
          "output_type": "execute_result",
          "data": {
            "text/html": [
              "<div>\n",
              "<style scoped>\n",
              "    .dataframe tbody tr th:only-of-type {\n",
              "        vertical-align: middle;\n",
              "    }\n",
              "\n",
              "    .dataframe tbody tr th {\n",
              "        vertical-align: top;\n",
              "    }\n",
              "\n",
              "    .dataframe thead th {\n",
              "        text-align: right;\n",
              "    }\n",
              "</style>\n",
              "<table border=\"1\" class=\"dataframe\">\n",
              "  <thead>\n",
              "    <tr style=\"text-align: right;\">\n",
              "      <th></th>\n",
              "      <th>index</th>\n",
              "      <th>0</th>\n",
              "      <th>Salary</th>\n",
              "      <th>Exp.</th>\n",
              "    </tr>\n",
              "  </thead>\n",
              "  <tbody>\n",
              "    <tr>\n",
              "      <th>0</th>\n",
              "      <td>39343.0</td>\n",
              "      <td>1.1</td>\n",
              "      <td>39343.0</td>\n",
              "      <td>1.1</td>\n",
              "    </tr>\n",
              "    <tr>\n",
              "      <th>1</th>\n",
              "      <td>46205.0</td>\n",
              "      <td>1.3</td>\n",
              "      <td>46205.0</td>\n",
              "      <td>1.3</td>\n",
              "    </tr>\n",
              "    <tr>\n",
              "      <th>2</th>\n",
              "      <td>37731.0</td>\n",
              "      <td>1.5</td>\n",
              "      <td>37731.0</td>\n",
              "      <td>1.5</td>\n",
              "    </tr>\n",
              "    <tr>\n",
              "      <th>3</th>\n",
              "      <td>43525.0</td>\n",
              "      <td>2.0</td>\n",
              "      <td>43525.0</td>\n",
              "      <td>2.0</td>\n",
              "    </tr>\n",
              "    <tr>\n",
              "      <th>4</th>\n",
              "      <td>39891.0</td>\n",
              "      <td>2.2</td>\n",
              "      <td>39891.0</td>\n",
              "      <td>2.2</td>\n",
              "    </tr>\n",
              "    <tr>\n",
              "      <th>5</th>\n",
              "      <td>56642.0</td>\n",
              "      <td>2.9</td>\n",
              "      <td>56642.0</td>\n",
              "      <td>2.9</td>\n",
              "    </tr>\n",
              "    <tr>\n",
              "      <th>6</th>\n",
              "      <td>60150.0</td>\n",
              "      <td>3.0</td>\n",
              "      <td>60150.0</td>\n",
              "      <td>3.0</td>\n",
              "    </tr>\n",
              "  </tbody>\n",
              "</table>\n",
              "</div>"
            ],
            "text/plain": [
              "     index    0   Salary  Exp.\n",
              "0  39343.0  1.1  39343.0   1.1\n",
              "1  46205.0  1.3  46205.0   1.3\n",
              "2  37731.0  1.5  37731.0   1.5\n",
              "3  43525.0  2.0  43525.0   2.0\n",
              "4  39891.0  2.2  39891.0   2.2\n",
              "5  56642.0  2.9  56642.0   2.9\n",
              "6  60150.0  3.0  60150.0   3.0"
            ]
          },
          "metadata": {
            "tags": []
          },
          "execution_count": 11
        }
      ]
    },
    {
      "cell_type": "code",
      "metadata": {
        "id": "SI6-vpjeOlxt"
      },
      "source": [
        "df = hitesh_df[['Salary','Exp.']]"
      ],
      "execution_count": 13,
      "outputs": []
    },
    {
      "cell_type": "code",
      "metadata": {
        "id": "VvagzWoevXEw",
        "colab": {
          "base_uri": "https://localhost:8080/"
        },
        "outputId": "041ae174-34b6-4065-fe0d-2f698f3922c1"
      },
      "source": [
        "reg = linear_model.LinearRegression()\n",
        "reg.fit(df[['Exp.']],df['Salary'],sample_weight=None)"
      ],
      "execution_count": 20,
      "outputs": [
        {
          "output_type": "execute_result",
          "data": {
            "text/plain": [
              "LinearRegression(copy_X=True, fit_intercept=True, n_jobs=None, normalize=False)"
            ]
          },
          "metadata": {
            "tags": []
          },
          "execution_count": 20
        }
      ]
    },
    {
      "cell_type": "code",
      "metadata": {
        "id": "aXSsWvwnvXEx",
        "colab": {
          "base_uri": "https://localhost:8080/"
        },
        "outputId": "b7e4de57-29cf-443e-8ec2-bf2be3b5dc57"
      },
      "source": [
        "reg.coef_"
      ],
      "execution_count": 15,
      "outputs": [
        {
          "output_type": "execute_result",
          "data": {
            "text/plain": [
              "array([9555.38235294])"
            ]
          },
          "metadata": {
            "tags": []
          },
          "execution_count": 15
        }
      ]
    },
    {
      "cell_type": "code",
      "metadata": {
        "colab": {
          "base_uri": "https://localhost:8080/"
        },
        "id": "i82ZXjxFO0fX",
        "outputId": "5b78da5f-62bc-4edf-b7ae-fd29cbbb962c"
      },
      "source": [
        "reg.intercept_"
      ],
      "execution_count": 16,
      "outputs": [
        {
          "output_type": "execute_result",
          "data": {
            "text/plain": [
              "27101.66386554621"
            ]
          },
          "metadata": {
            "tags": []
          },
          "execution_count": 16
        }
      ]
    },
    {
      "cell_type": "code",
      "metadata": {
        "colab": {
          "base_uri": "https://localhost:8080/"
        },
        "id": "x9d7q-IhO6hH",
        "outputId": "e175575c-2947-4aa5-ec10-7685e88932e6"
      },
      "source": [
        "reg.predict(np.array(7.5).reshape(-1,1))"
      ],
      "execution_count": 17,
      "outputs": [
        {
          "output_type": "execute_result",
          "data": {
            "text/plain": [
              "array([98767.03151261])"
            ]
          },
          "metadata": {
            "tags": []
          },
          "execution_count": 17
        }
      ]
    }
  ]
}